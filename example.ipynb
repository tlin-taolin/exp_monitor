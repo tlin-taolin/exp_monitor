{
 "cells": [
  {
   "cell_type": "code",
   "execution_count": 1,
   "metadata": {},
   "outputs": [],
   "source": [
    "# Useful starting lines \n",
    "%matplotlib inline\n",
    "import numpy as np\n",
    "import matplotlib.pyplot as plt\n",
    "from matplotlib.lines import Line2D\n",
    "%load_ext autoreload\n",
    "%autoreload 2"
   ]
  },
  {
   "cell_type": "code",
   "execution_count": 2,
   "metadata": {},
   "outputs": [],
   "source": [
    "import os \n",
    "import sys\n",
    "import time\n",
    "import copy\n",
    "from copy import deepcopy\n",
    "import pickle\n",
    "import math\n",
    "import functools \n",
    "from IPython.display import display, HTML\n",
    "import operator\n",
    "from operator import itemgetter\n",
    "\n",
    "import pandas as pd\n",
    "import seaborn as sns\n",
    "from matplotlib.lines import Line2D\n",
    "\n",
    "sns.set(style=\"darkgrid\")\n",
    "sns.set_context(\"paper\")\n",
    "\n",
    "import torch\n",
    "import torch.nn as nn\n",
    "import torch.nn.functional as F"
   ]
  },
  {
   "cell_type": "markdown",
   "metadata": {},
   "source": [
    "# Example 1 \n",
    "for prompt_code"
   ]
  },
  {
   "cell_type": "code",
   "execution_count": 3,
   "metadata": {},
   "outputs": [],
   "source": [
    "root_path = '/mlodata1/tlin/prompt_code/'\n",
    "sys.path.append(root_path)"
   ]
  },
  {
   "cell_type": "code",
   "execution_count": null,
   "metadata": {},
   "outputs": [],
   "source": [
    "from adaptation.tools.show_results import extract_list_of_records, reorder_records, get_pickle_info, summarize_info\n",
    "from adaptation.tools.plot import plot_curve_wrt_time\n",
    "import adaptation.tools.plot_utils as plot_utils\n",
    "from adaptation.utils.auxiliary import dict_parser\n",
    "from adaptation.utils.file_io import load_pickle"
   ]
  },
  {
   "cell_type": "code",
   "execution_count": null,
   "metadata": {},
   "outputs": [],
   "source": [
    "attributes = ['mode', 'lr', 'num_epochs', 'status']\n",
    "\n",
    "# \n",
    "root_data_path = os.path.join(root_path, 'data', 'checkpoint', 'vit_tiny', 'cifar10')\n",
    "_experiments = ['tuning']\n",
    "baseline = get_pickle_info(root_data_path, _experiments)\n",
    "\n",
    "##\n",
    "conditions = {'mode': ['adaptation_fine_tuning'], 'num_epochs': [10]}\n",
    "records = extract_list_of_records(list_of_records=baseline, conditions=conditions)\n",
    "aggregated_results, averaged_records = summarize_info(records, attributes, based_on='lr', be_groupby='test-local_model-accuracy', larger_is_better=True)\n",
    "display(HTML(averaged_records.to_html()))"
   ]
  },
  {
   "cell_type": "code",
   "execution_count": null,
   "metadata": {},
   "outputs": [],
   "source": [
    "attributes = ['mode', 'lr', 'embedding_type', 'n_topk_prompts', 'n_default_prompts', 'prompt_reg_weight', 'status']\n",
    "\n",
    "# \n",
    "root_data_path = os.path.join(root_path, 'data', 'checkpoint', 'vit_tiny', 'cifar10')\n",
    "_experiments = ['dual_selective_prefix_prompt_tuning']\n",
    "baseline = get_pickle_info(root_data_path, _experiments)\n",
    "\n",
    "##\n",
    "conditions = {\n",
    "    'mode': ['adaptation_prompt_tuning'], 'num_epochs': [20], 'lr': [0.01],\n",
    "    'embedding_type': ['mean_exclude_cls'], 'n_topk_prompts': [4], 'n_default_prompts': [1], 'prompt_reg_weight': [0.1]\n",
    "}\n",
    "records = extract_list_of_records(list_of_records=baseline, conditions=conditions)\n",
    "aggregated_results, averaged_records = summarize_info(records, attributes, based_on='lr', be_groupby='test-local_model-accuracy', larger_is_better=True)\n",
    "display(HTML(averaged_records.to_html()))\n",
    "\n",
    "##\n",
    "fig = plt.figure(num=1, figsize=(12, 6))\n",
    "ax1 = fig.add_subplot(111)\n",
    "plot_curve_wrt_time(\n",
    "    ax1, records,\n",
    "    x_wrt_sth='test-local_model-step', y_wrt_sth='test-local_model-accuracy', is_smooth=False,\n",
    "    xlabel='Steps', ylabel='Test local model accuracy', l_subset=0.0, r_subset=1, markevery_list=None,\n",
    "    n_by_line=4, legend='n_topk_prompts,n_default_prompts', legend_loc='lower right', legend_ncol=1, bbox_to_anchor=[1, 0],\n",
    "    ylimit_bottom=None, ylimit_top=None, use_log=False)\n",
    "fig.tight_layout()\n",
    "plt.show()"
   ]
  }
 ],
 "metadata": {
  "kernelspec": {
   "display_name": "Python 3",
   "language": "python",
   "name": "python3"
  },
  "language_info": {
   "codemirror_mode": {
    "name": "ipython",
    "version": 3
   },
   "file_extension": ".py",
   "mimetype": "text/x-python",
   "name": "python",
   "nbconvert_exporter": "python",
   "pygments_lexer": "ipython3",
   "version": "3.6.3"
  }
 },
 "nbformat": 4,
 "nbformat_minor": 2
}
